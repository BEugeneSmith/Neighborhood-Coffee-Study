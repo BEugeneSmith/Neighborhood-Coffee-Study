{
 "cells": [
  {
   "cell_type": "code",
   "execution_count": 1,
   "metadata": {
    "collapsed": true
   },
   "outputs": [],
   "source": [
    "import pandas as pd\n",
    "import geopandas as gpd\n",
    "from shapely.geometry import Point\n",
    "from shapely.ops import nearest_points\n",
    "import numpy as np"
   ]
  },
  {
   "cell_type": "code",
   "execution_count": 2,
   "metadata": {
    "collapsed": true
   },
   "outputs": [],
   "source": [
    "neighborhoods = gpd.read_file('data/chicago/v3 08192017/ChicagoNeighborhoods.shp')\n",
    "transit = gpd.read_file('data/chicago/v3 08192017/transit_upd081917.shp')\n",
    "coffee = gpd.read_file('data/chicago/v3 08192017/coffee_upd081917.shp')\n",
    "apts = gpd.read_file('data/chicago/v3 08192017/clApts_upd081917.shp')"
   ]
  },
  {
   "cell_type": "code",
   "execution_count": 3,
   "metadata": {
    "collapsed": true
   },
   "outputs": [],
   "source": [
    "# setting up variables and prelim processing\n",
    "home = Point(-87.659349,41.9880054)\n",
    "work = Point(-87.6438878,41.884193)\n",
    "apts = apts[apts['bedroom'].between(1.0,2.0)]"
   ]
  },
  {
   "cell_type": "code",
   "execution_count": 4,
   "metadata": {
    "collapsed": true
   },
   "outputs": [],
   "source": [
    "# set up functions\n",
    "def getNearestPoint(pt,searchPts):\n",
    "    # get nearest point relative to a given point\n",
    "    pt = pt['geometry']\n",
    "    nearest = nearest_points(pt,searchPts.geometry.unary_union)[1]\n",
    "    nearest = gpd.GeoDataFrame(searchPts[searchPts.geometry == nearest])\n",
    "    y = nearest.geometry.distance(pt)\n",
    "    if y.iloc[0] == 0.0:\n",
    "        searchPts = searchPts.loc[[i for i in searchPts.index if i != nearest.index[0] ],:]\n",
    "        nearest = nearest_points(pt,searchPts.geometry.unary_union)[1]\n",
    "        nearest = gpd.GeoDataFrame(searchPts[searchPts.geometry == nearest])\n",
    "        y = nearest.geometry.distance(pt)\n",
    "    try:\n",
    "        y = float(y)\n",
    "    except:\n",
    "        y = 0.0\n",
    "    return y"
   ]
  },
  {
   "cell_type": "code",
   "execution_count": 5,
   "metadata": {
    "collapsed": true
   },
   "outputs": [],
   "source": [
    "# clean and the business data\n",
    "coffee.dropna(subset=['LONGITUDE'],inplace=True)\n",
    "coffee = coffee.drop_duplicates(subset=['LONGITUDE','LATITUDE'])\n",
    "coffee = coffee[coffee['DOING BUSI'].str.contains('STARBUCK') == False]\n",
    "\n",
    "# get distance from home\n",
    "coffee['homeDist'] = coffee['geometry'].apply(lambda x: home.distance(x))\n",
    "coffee['workDist'] = coffee['geometry'].apply(lambda x: work.distance(x))\n",
    "\n",
    "# get nearest other coffee place and train CTA train stop\n",
    "coffee['nearestCoffeeDist'] = coffee.apply(lambda x: getNearestPoint(x,coffee),axis=1)\n",
    "coffee['nearestTransitDist'] = coffee.apply(lambda x: getNearestPoint(x,transit),axis=1)"
   ]
  },
  {
   "cell_type": "code",
   "execution_count": 6,
   "metadata": {
    "collapsed": true
   },
   "outputs": [],
   "source": [
    "# get designated neighborhood and reduce columns\n",
    "neighborhoods['area'] = neighborhoods['geometry'].area\n",
    "neighborhoods.rename(columns={'pri_neigh':'neighborhood'},inplace=True)\n",
    "\n",
    "joinedData = gpd.tools.sjoin(coffee,neighborhoods,op='within',how='inner')\n",
    "joinedData = joinedData[['neighborhood','DOING BUSI', \n",
    "            'ADDRESS','CITY', 'STATE', 'ZIP CODE',\n",
    "            'LONGITUDE','LATITUDE',\n",
    "            'nearestTransitDist','workDist','homeDist','nearestCoffeeDist','geometry'\n",
    "            ]].reset_index(drop=True)\n",
    "joinedData.reset_index(inplace=True)"
   ]
  },
  {
   "cell_type": "code",
   "execution_count": 8,
   "metadata": {},
   "outputs": [],
   "source": [
    "# get median price of 30 closest rentals\n",
    "dists = joinedData['geometry'].apply(lambda nsb:\n",
    "    apts['geometry'].apply(lambda apt: apt.distance(nsb)).sort_values().head(30).index\n",
    "                        )\n",
    "dists = pd.DataFrame(dists)\n",
    "joinedData['medianPrice'] = dists['geometry'].apply(lambda x: apts.loc[x]['price'].median())\n",
    "joinedData.drop('index',inplace=True,axis=1)"
   ]
  },
  {
   "cell_type": "code",
   "execution_count": 9,
   "metadata": {},
   "outputs": [
    {
     "data": {
      "text/html": [
       "<div>\n",
       "<style>\n",
       "    .dataframe thead tr:only-child th {\n",
       "        text-align: right;\n",
       "    }\n",
       "\n",
       "    .dataframe thead th {\n",
       "        text-align: left;\n",
       "    }\n",
       "\n",
       "    .dataframe tbody tr th {\n",
       "        vertical-align: top;\n",
       "    }\n",
       "</style>\n",
       "<table border=\"1\" class=\"dataframe\">\n",
       "  <thead>\n",
       "    <tr style=\"text-align: right;\">\n",
       "      <th></th>\n",
       "      <th>neighborhood</th>\n",
       "      <th>DOING BUSI</th>\n",
       "      <th>ADDRESS</th>\n",
       "      <th>CITY</th>\n",
       "      <th>STATE</th>\n",
       "      <th>ZIP CODE</th>\n",
       "      <th>LONGITUDE</th>\n",
       "      <th>LATITUDE</th>\n",
       "      <th>nearestTransitDist</th>\n",
       "      <th>workDist</th>\n",
       "      <th>homeDist</th>\n",
       "      <th>nearestCoffeeDist</th>\n",
       "      <th>geometry</th>\n",
       "      <th>medianPrice</th>\n",
       "    </tr>\n",
       "  </thead>\n",
       "  <tbody>\n",
       "    <tr>\n",
       "      <th>0</th>\n",
       "      <td>Old Town</td>\n",
       "      <td>EVA'S COFFEE, INC.</td>\n",
       "      <td>1447 N SEDGWICK ST 1ST</td>\n",
       "      <td>CHICAGO</td>\n",
       "      <td>IL</td>\n",
       "      <td>60610</td>\n",
       "      <td>-87.638375</td>\n",
       "      <td>41.908857</td>\n",
       "      <td>0.0</td>\n",
       "      <td>0.025272</td>\n",
       "      <td>0.081880</td>\n",
       "      <td>0.014932</td>\n",
       "      <td>POINT (-87.63837516299999 41.908856726)</td>\n",
       "      <td>2338.5</td>\n",
       "    </tr>\n",
       "    <tr>\n",
       "      <th>1</th>\n",
       "      <td>West Loop</td>\n",
       "      <td>ARTURO EXPRESS</td>\n",
       "      <td>130 S CANAL ST</td>\n",
       "      <td>CHICAGO</td>\n",
       "      <td>IL</td>\n",
       "      <td>60606</td>\n",
       "      <td>-87.639765</td>\n",
       "      <td>41.879616</td>\n",
       "      <td>0.0</td>\n",
       "      <td>0.006160</td>\n",
       "      <td>0.110144</td>\n",
       "      <td>0.001574</td>\n",
       "      <td>POINT (-87.639764523 41.879616268)</td>\n",
       "      <td>2117.5</td>\n",
       "    </tr>\n",
       "    <tr>\n",
       "      <th>2</th>\n",
       "      <td>West Loop</td>\n",
       "      <td>MEDDLE COFFEE BAR</td>\n",
       "      <td>601 W JACKSON BLVD 1 A</td>\n",
       "      <td>CHICAGO</td>\n",
       "      <td>IL</td>\n",
       "      <td>60661</td>\n",
       "      <td>-87.642609</td>\n",
       "      <td>41.877889</td>\n",
       "      <td>0.0</td>\n",
       "      <td>0.006433</td>\n",
       "      <td>0.111382</td>\n",
       "      <td>0.003328</td>\n",
       "      <td>POINT (-87.642609175 41.877888529)</td>\n",
       "      <td>2653.0</td>\n",
       "    </tr>\n",
       "    <tr>\n",
       "      <th>3</th>\n",
       "      <td>West Loop</td>\n",
       "      <td>PEET'S COFFEE &amp; TEA</td>\n",
       "      <td>222 S RIVERSIDE PLZ 1ST</td>\n",
       "      <td>CHICAGO</td>\n",
       "      <td>IL</td>\n",
       "      <td>60606</td>\n",
       "      <td>-87.638579</td>\n",
       "      <td>41.878582</td>\n",
       "      <td>0.0</td>\n",
       "      <td>0.007725</td>\n",
       "      <td>0.111378</td>\n",
       "      <td>0.001574</td>\n",
       "      <td>POINT (-87.63857866799999 41.878581561)</td>\n",
       "      <td>2117.5</td>\n",
       "    </tr>\n",
       "    <tr>\n",
       "      <th>4</th>\n",
       "      <td>West Loop</td>\n",
       "      <td>GROUNDSWELL COFFEE ROASTERS</td>\n",
       "      <td>1168 W MADISON ST 1ST 2</td>\n",
       "      <td>CHICAGO</td>\n",
       "      <td>IL</td>\n",
       "      <td>60607</td>\n",
       "      <td>-87.656987</td>\n",
       "      <td>41.881729</td>\n",
       "      <td>0.0</td>\n",
       "      <td>0.013329</td>\n",
       "      <td>0.106303</td>\n",
       "      <td>0.003664</td>\n",
       "      <td>POINT (-87.65698670899999 41.881728772)</td>\n",
       "      <td>2700.0</td>\n",
       "    </tr>\n",
       "  </tbody>\n",
       "</table>\n",
       "</div>"
      ],
      "text/plain": [
       "  neighborhood                   DOING BUSI                  ADDRESS     CITY  \\\n",
       "0     Old Town           EVA'S COFFEE, INC.   1447 N SEDGWICK ST 1ST  CHICAGO   \n",
       "1    West Loop               ARTURO EXPRESS           130 S CANAL ST  CHICAGO   \n",
       "2    West Loop            MEDDLE COFFEE BAR   601 W JACKSON BLVD 1 A  CHICAGO   \n",
       "3    West Loop          PEET'S COFFEE & TEA  222 S RIVERSIDE PLZ 1ST  CHICAGO   \n",
       "4    West Loop  GROUNDSWELL COFFEE ROASTERS  1168 W MADISON ST 1ST 2  CHICAGO   \n",
       "\n",
       "  STATE  ZIP CODE  LONGITUDE   LATITUDE  nearestTransitDist  workDist  \\\n",
       "0    IL     60610 -87.638375  41.908857                 0.0  0.025272   \n",
       "1    IL     60606 -87.639765  41.879616                 0.0  0.006160   \n",
       "2    IL     60661 -87.642609  41.877889                 0.0  0.006433   \n",
       "3    IL     60606 -87.638579  41.878582                 0.0  0.007725   \n",
       "4    IL     60607 -87.656987  41.881729                 0.0  0.013329   \n",
       "\n",
       "   homeDist  nearestCoffeeDist                                 geometry  \\\n",
       "0  0.081880           0.014932  POINT (-87.63837516299999 41.908856726)   \n",
       "1  0.110144           0.001574       POINT (-87.639764523 41.879616268)   \n",
       "2  0.111382           0.003328       POINT (-87.642609175 41.877888529)   \n",
       "3  0.111378           0.001574  POINT (-87.63857866799999 41.878581561)   \n",
       "4  0.106303           0.003664  POINT (-87.65698670899999 41.881728772)   \n",
       "\n",
       "   medianPrice  \n",
       "0       2338.5  \n",
       "1       2117.5  \n",
       "2       2653.0  \n",
       "3       2117.5  \n",
       "4       2700.0  "
      ]
     },
     "execution_count": 9,
     "metadata": {},
     "output_type": "execute_result"
    }
   ],
   "source": [
    "joinedData.head()"
   ]
  },
  {
   "cell_type": "code",
   "execution_count": null,
   "metadata": {
    "collapsed": true
   },
   "outputs": [],
   "source": []
  }
 ],
 "metadata": {
  "kernelspec": {
   "display_name": "Python [conda root]",
   "language": "python",
   "name": "conda-root-py"
  },
  "language_info": {
   "codemirror_mode": {
    "name": "ipython",
    "version": 3
   },
   "file_extension": ".py",
   "mimetype": "text/x-python",
   "name": "python",
   "nbconvert_exporter": "python",
   "pygments_lexer": "ipython3",
   "version": "3.5.3"
  }
 },
 "nbformat": 4,
 "nbformat_minor": 2
}
