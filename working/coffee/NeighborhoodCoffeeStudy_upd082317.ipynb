{
 "cells": [
  {
   "cell_type": "markdown",
   "metadata": {},
   "source": [
    "I like cafes a bunch. They often feature a nice combination of ambient noice and coffee that's condusive to good work. I have, however, fallen into a bit of a rut. I visit the same two or three places. I know there's more out there but without having an explicit recommendation or walking past them day-in, day-out it's difficult to find them.\n",
    "\n",
    "To get around this blind spot I thought it would be a good idea to leverage the data available on the Chicago Open Data Portal. I wanted to see whether I could build groups of unvisited coffee places to explore in a afternoon so that I can find a few more work spaces for evenings and weekends."
   ]
  },
  {
   "cell_type": "code",
   "execution_count": 1,
   "metadata": {
    "collapsed": true
   },
   "outputs": [],
   "source": [
    "import pandas as pd\n",
    "import geopandas as gpd\n",
    "from shapely.geometry import Point\n",
    "from shapely.ops import nearest_points\n",
    "from sklearn.neighbors import NearestNeighbors\n",
    "\n",
    "neighborhoods = gpd.read_file('data/chicago/v3 08192017/ChicagoNeighborhoods.shp')\n",
    "transit = gpd.read_file('data/chicago/v3 08192017/transit_upd081917.shp')\n",
    "coffee = gpd.read_file('data/chicago/v3 08192017/coffee_upd081917.shp')"
   ]
  },
  {
   "cell_type": "markdown",
   "metadata": {},
   "source": [
    "Here I set "
   ]
  },
  {
   "cell_type": "code",
   "execution_count": 2,
   "metadata": {
    "collapsed": true
   },
   "outputs": [],
   "source": [
    "### setting up variables and prelim processing\n",
    "home = Point(-87.659349,41.9880054)\n",
    "work = Point(-87.6438878,41.884193)\n",
    "\n",
    "# set up functions\n",
    "def getNearestPoint(pt,searchPts):\n",
    "    # get nearest point relative to a given point\n",
    "    pt = pt['geometry']\n",
    "    nearest = nearest_points(pt,searchPts.geometry.unary_union)[1]\n",
    "    nearest = gpd.GeoDataFrame(searchPts[searchPts.geometry == nearest])\n",
    "    y = nearest.geometry.distance(pt)\n",
    "    if y.iloc[0] == 0.0:\n",
    "        searchPts = searchPts.loc[[i for i in searchPts.index if i != nearest.index[0] ],:]\n",
    "        nearest = nearest_points(pt,searchPts.geometry.unary_union)[1]\n",
    "        nearest = gpd.GeoDataFrame(searchPts[searchPts.geometry == nearest])\n",
    "        y = nearest.geometry.distance(pt)\n",
    "    return float(y.iloc[0])"
   ]
  },
  {
   "cell_type": "code",
   "execution_count": 4,
   "metadata": {
    "collapsed": true
   },
   "outputs": [],
   "source": [
    "# clean and the business data\n",
    "coffee.dropna(subset=['LONGITUDE'],inplace=True)\n",
    "coffee = coffee.drop_duplicates(subset=['LONGITUDE','LATITUDE'])\n",
    "coffee = coffee[coffee['DOING BUSI'].str.contains('STARBUCK') == False]\n",
    "\n",
    "# get distance from home\n",
    "coffee['homeDist'] = coffee['geometry'].apply(lambda x: home.distance(x))\n",
    "coffee['workDist'] = coffee['geometry'].apply(lambda x: work.distance(x))\n",
    "\n",
    "# get nearest other coffee place and train CTA train stop\n",
    "coffee['nearestCoffeeDist'] = coffee.apply(lambda x: getNearestPoint(x,coffee),axis=1)\n",
    "coffee['nearestTransitDist'] = coffee.apply(lambda x: getNearestPoint(x,transit),axis=1)"
   ]
  },
  {
   "cell_type": "code",
   "execution_count": 5,
   "metadata": {
    "collapsed": true
   },
   "outputs": [],
   "source": [
    "# get designated neighborhood and reduce columns\n",
    "neighborhoods['area'] = neighborhoods['geometry'].area\n",
    "neighborhoods.rename(columns={'pri_neigh':'neighborhood'},inplace=True)\n",
    "\n",
    "joinedData = gpd.tools.sjoin(coffee,neighborhoods,op='within',how='inner')\n",
    "joinedData = joinedData[['neighborhood','DOING BUSI', \n",
    "            'ADDRESS','CITY', 'STATE', 'ZIP CODE',\n",
    "            'LONGITUDE','LATITUDE',\n",
    "            'nearestTransitDist','workDist','homeDist','nearestCoffeeDist','geometry'\n",
    "            ]].reset_index(drop=True)\n",
    "joinedData.reset_index(inplace=True)"
   ]
  },
  {
   "cell_type": "code",
   "execution_count": 6,
   "metadata": {},
   "outputs": [
    {
     "data": {
      "text/html": [
       "<div>\n",
       "<style>\n",
       "    .dataframe thead tr:only-child th {\n",
       "        text-align: right;\n",
       "    }\n",
       "\n",
       "    .dataframe thead th {\n",
       "        text-align: left;\n",
       "    }\n",
       "\n",
       "    .dataframe tbody tr th {\n",
       "        vertical-align: top;\n",
       "    }\n",
       "</style>\n",
       "<table border=\"1\" class=\"dataframe\">\n",
       "  <thead>\n",
       "    <tr style=\"text-align: right;\">\n",
       "      <th></th>\n",
       "      <th>index</th>\n",
       "      <th>neighborhood</th>\n",
       "      <th>DOING BUSI</th>\n",
       "      <th>ADDRESS</th>\n",
       "      <th>CITY</th>\n",
       "      <th>STATE</th>\n",
       "      <th>ZIP CODE</th>\n",
       "      <th>LONGITUDE</th>\n",
       "      <th>LATITUDE</th>\n",
       "      <th>nearestTransitDist</th>\n",
       "      <th>workDist</th>\n",
       "      <th>homeDist</th>\n",
       "      <th>nearestCoffeeDist</th>\n",
       "      <th>geometry</th>\n",
       "    </tr>\n",
       "  </thead>\n",
       "  <tbody>\n",
       "    <tr>\n",
       "      <th>0</th>\n",
       "      <td>0</td>\n",
       "      <td>Old Town</td>\n",
       "      <td>EVA'S COFFEE, INC.</td>\n",
       "      <td>1447 N SEDGWICK ST 1ST</td>\n",
       "      <td>CHICAGO</td>\n",
       "      <td>IL</td>\n",
       "      <td>60610</td>\n",
       "      <td>-87.638375</td>\n",
       "      <td>41.908857</td>\n",
       "      <td>0.001808</td>\n",
       "      <td>0.025272</td>\n",
       "      <td>0.081880</td>\n",
       "      <td>0.014932</td>\n",
       "      <td>POINT (-87.63837516299999 41.908856726)</td>\n",
       "    </tr>\n",
       "    <tr>\n",
       "      <th>1</th>\n",
       "      <td>1</td>\n",
       "      <td>West Loop</td>\n",
       "      <td>ARTURO EXPRESS</td>\n",
       "      <td>130 S CANAL ST</td>\n",
       "      <td>CHICAGO</td>\n",
       "      <td>IL</td>\n",
       "      <td>60606</td>\n",
       "      <td>-87.639765</td>\n",
       "      <td>41.879616</td>\n",
       "      <td>0.004256</td>\n",
       "      <td>0.006160</td>\n",
       "      <td>0.110144</td>\n",
       "      <td>0.001574</td>\n",
       "      <td>POINT (-87.639764523 41.879616268)</td>\n",
       "    </tr>\n",
       "    <tr>\n",
       "      <th>2</th>\n",
       "      <td>2</td>\n",
       "      <td>West Loop</td>\n",
       "      <td>MEDDLE COFFEE BAR</td>\n",
       "      <td>601 W JACKSON BLVD 1 A</td>\n",
       "      <td>CHICAGO</td>\n",
       "      <td>IL</td>\n",
       "      <td>60661</td>\n",
       "      <td>-87.642609</td>\n",
       "      <td>41.877889</td>\n",
       "      <td>0.002857</td>\n",
       "      <td>0.006433</td>\n",
       "      <td>0.111382</td>\n",
       "      <td>0.003328</td>\n",
       "      <td>POINT (-87.642609175 41.877888529)</td>\n",
       "    </tr>\n",
       "    <tr>\n",
       "      <th>3</th>\n",
       "      <td>3</td>\n",
       "      <td>West Loop</td>\n",
       "      <td>PEET'S COFFEE &amp; TEA</td>\n",
       "      <td>222 S RIVERSIDE PLZ 1ST</td>\n",
       "      <td>CHICAGO</td>\n",
       "      <td>IL</td>\n",
       "      <td>60606</td>\n",
       "      <td>-87.638579</td>\n",
       "      <td>41.878582</td>\n",
       "      <td>0.003879</td>\n",
       "      <td>0.007725</td>\n",
       "      <td>0.111378</td>\n",
       "      <td>0.001574</td>\n",
       "      <td>POINT (-87.63857866799999 41.878581561)</td>\n",
       "    </tr>\n",
       "    <tr>\n",
       "      <th>4</th>\n",
       "      <td>4</td>\n",
       "      <td>West Loop</td>\n",
       "      <td>GROUNDSWELL COFFEE ROASTERS</td>\n",
       "      <td>1168 W MADISON ST 1ST 2</td>\n",
       "      <td>CHICAGO</td>\n",
       "      <td>IL</td>\n",
       "      <td>60607</td>\n",
       "      <td>-87.656987</td>\n",
       "      <td>41.881729</td>\n",
       "      <td>0.006153</td>\n",
       "      <td>0.013329</td>\n",
       "      <td>0.106303</td>\n",
       "      <td>0.003664</td>\n",
       "      <td>POINT (-87.65698670899999 41.881728772)</td>\n",
       "    </tr>\n",
       "  </tbody>\n",
       "</table>\n",
       "</div>"
      ],
      "text/plain": [
       "   index neighborhood                   DOING BUSI                  ADDRESS  \\\n",
       "0      0     Old Town           EVA'S COFFEE, INC.   1447 N SEDGWICK ST 1ST   \n",
       "1      1    West Loop               ARTURO EXPRESS           130 S CANAL ST   \n",
       "2      2    West Loop            MEDDLE COFFEE BAR   601 W JACKSON BLVD 1 A   \n",
       "3      3    West Loop          PEET'S COFFEE & TEA  222 S RIVERSIDE PLZ 1ST   \n",
       "4      4    West Loop  GROUNDSWELL COFFEE ROASTERS  1168 W MADISON ST 1ST 2   \n",
       "\n",
       "      CITY STATE  ZIP CODE  LONGITUDE   LATITUDE  nearestTransitDist  \\\n",
       "0  CHICAGO    IL     60610 -87.638375  41.908857            0.001808   \n",
       "1  CHICAGO    IL     60606 -87.639765  41.879616            0.004256   \n",
       "2  CHICAGO    IL     60661 -87.642609  41.877889            0.002857   \n",
       "3  CHICAGO    IL     60606 -87.638579  41.878582            0.003879   \n",
       "4  CHICAGO    IL     60607 -87.656987  41.881729            0.006153   \n",
       "\n",
       "   workDist  homeDist  nearestCoffeeDist  \\\n",
       "0  0.025272  0.081880           0.014932   \n",
       "1  0.006160  0.110144           0.001574   \n",
       "2  0.006433  0.111382           0.003328   \n",
       "3  0.007725  0.111378           0.001574   \n",
       "4  0.013329  0.106303           0.003664   \n",
       "\n",
       "                                  geometry  \n",
       "0  POINT (-87.63837516299999 41.908856726)  \n",
       "1       POINT (-87.639764523 41.879616268)  \n",
       "2       POINT (-87.642609175 41.877888529)  \n",
       "3  POINT (-87.63857866799999 41.878581561)  \n",
       "4  POINT (-87.65698670899999 41.881728772)  "
      ]
     },
     "execution_count": 6,
     "metadata": {},
     "output_type": "execute_result"
    }
   ],
   "source": [
    "joinedData.head()"
   ]
  },
  {
   "cell_type": "markdown",
   "metadata": {},
   "source": [
    "At this point I saved the data as it is processed now and manually categorized locations as visited or not visited. After that, I reloaded the data."
   ]
  },
  {
   "cell_type": "code",
   "execution_count": 7,
   "metadata": {
    "collapsed": true
   },
   "outputs": [],
   "source": [
    "# writer = pd.ExcelWriter('./NSB_preprocessed_upd082317.xlsx')\n",
    "# pd.DataFrame(joinedData.drop('geometry',axis=1)).to_excel(writer,index=False)\n",
    "# writer.close()"
   ]
  },
  {
   "cell_type": "code",
   "execution_count": null,
   "metadata": {},
   "outputs": [],
   "source": [
    "NSBData_processed = pd.read_excel('NSB_preprocessed_upd082317.xlsx')\n",
    "NSBData_processed = NSBData_processed[NSBData_processed['visitInd']==False]\n",
    "NSBData_processed.head()"
   ]
  },
  {
   "cell_type": "code",
   "execution_count": null,
   "metadata": {
    "collapsed": true
   },
   "outputs": [],
   "source": [
    "# split groups into places that are closer to home, or work\n",
    "NSBData_processed['closerTo'] = NSBData_processed.apply(lambda x: 'home' if x.workDist > x.homeDist else 'work',axis=1)\n",
    "closerToHome = NSBData_processed[NSBData_processed['closerTo']=='home']\n",
    "closerToWork = NSBData_processed[NSBData_processed['closerTo']=='work']\n",
    "\n",
    "closerToHomePoints = closerToHome[['LONGITUDE','LATITUDE']]\n",
    "closerToWorkPoints = closerToWork[['LONGITUDE','LATITUDE']]"
   ]
  },
  {
   "cell_type": "code",
   "execution_count": null,
   "metadata": {},
   "outputs": [],
   "source": [
    "neighborsWork = NearestNeighbors(n_neighbors=3).fit(closerToWorkPoints)\n",
    "distancesWork,clustersWork = neighborsWork.kneighbors(closerToWorkPoints)\n",
    "closerToWork.iloc[clustersWork[0]]"
   ]
  },
  {
   "cell_type": "code",
   "execution_count": null,
   "metadata": {},
   "outputs": [],
   "source": [
    "neighborsHome = NearestNeighbors(n_neighbors=3).fit(closerToHomePoints)\n",
    "distancesHome,clustersHome = neighborsHome.kneighbors(closerToHomePoints)\n",
    "closerToHome.iloc[clustersHome[0]]"
   ]
  },
  {
   "cell_type": "code",
   "execution_count": null,
   "metadata": {
    "collapsed": true
   },
   "outputs": [],
   "source": []
  }
 ],
 "metadata": {
  "kernelspec": {
   "display_name": "Python [conda root]",
   "language": "python",
   "name": "conda-root-py"
  },
  "language_info": {
   "codemirror_mode": {
    "name": "ipython",
    "version": 3
   },
   "file_extension": ".py",
   "mimetype": "text/x-python",
   "name": "python",
   "nbconvert_exporter": "python",
   "pygments_lexer": "ipython3",
   "version": "3.5.3"
  }
 },
 "nbformat": 4,
 "nbformat_minor": 2
}
