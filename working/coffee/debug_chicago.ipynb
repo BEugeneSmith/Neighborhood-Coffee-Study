{
 "cells": [
  {
   "cell_type": "code",
   "execution_count": 1,
   "metadata": {
    "collapsed": true
   },
   "outputs": [],
   "source": [
    "import pandas as pd\n",
    "import geopandas as gpd\n",
    "from shapely.geometry import Point\n",
    "from shapely.ops import nearest_points\n",
    "import numpy as np\n",
    "from altair import *"
   ]
  },
  {
   "cell_type": "code",
   "execution_count": 2,
   "metadata": {
    "collapsed": true
   },
   "outputs": [],
   "source": [
    "chi = pd.read_csv('data/chicago/v2 07012017/ChicagoLicenseData.csv',low_memory=False)\n",
    "chi = chi[(chi['LEGAL NAME'].str.contains('COFFEE|ROASTER')) |\n",
    "          (chi['DOING BUSINESS AS NAME'].str.contains('COFFEE|ROASTER'))]\n",
    "chi = chi[pd.DatetimeIndex(chi['LICENSE TERM EXPIRATION DATE']) >= '1/1/2017']\n",
    "chi = chi.drop_duplicates(subset=['LOCATION'])\n",
    "chi = chi.dropna(subset=['LOCATION'])\n",
    "chi = chi[['LEGAL NAME','DOING BUSINESS AS NAME', 'ADDRESS', 'CITY', 'STATE', 'ZIP CODE','LATITUDE', 'LONGITUDE', 'LOCATION']]\n",
    "\n",
    "# change into geodataframe\n",
    "chi['geometry'] = chi.apply(lambda z: Point( z.LONGITUDE,z.LATITUDE), axis=1)\n",
    "chi = gpd.GeoDataFrame(chi,crs = {'init': 'epsg:4326'})"
   ]
  },
  {
   "cell_type": "code",
   "execution_count": 3,
   "metadata": {
    "collapsed": true
   },
   "outputs": [],
   "source": [
    "ctaTrain = pd.read_csv('data/chicago/v2 07012017/trainStopsCTA.csv')\n",
    "ctaTrain = ctaTrain[['Location','STATION_DESCRIPTIVE_NAME']].drop_duplicates(subset=['STATION_DESCRIPTIVE_NAME'])\n",
    "ctaTrain[['LATITUDE','LONGITUDE']] = ctaTrain['Location'].str[1:-1].str.split(', ',expand=True).astype(float)\n",
    "ctaTrain['geometry'] = ctaTrain.apply(lambda z: Point( z.LONGITUDE,z.LATITUDE), axis=1)\n",
    "ctaTrain = gpd.GeoDataFrame(ctaTrain,crs = {'init': 'epsg:4326'})"
   ]
  },
  {
   "cell_type": "code",
   "execution_count": 4,
   "metadata": {
    "collapsed": true
   },
   "outputs": [],
   "source": [
    "ctaBus = gpd.read_file('data/chicago/v2 07012017/CTABusStops/CleanBusStops.shp',)"
   ]
  },
  {
   "cell_type": "code",
   "execution_count": 5,
   "metadata": {
    "collapsed": true
   },
   "outputs": [],
   "source": [
    "def getNearestPoint(pt,searchPts):\n",
    "    nearest = nearest_points(pt,searchPts.geometry.unary_union)[1]\n",
    "    nearest = gpd.GeoDataFrame(searchPts[searchPts.geometry == nearest])\n",
    "    name = nearest[nearest.columns[nearest.columns.str.contains('name|NAME|Name')]]\n",
    "    x =name.iloc[0][0]\n",
    "    y = nearest.geometry.distance(pt)\n",
    "    if y.iloc[0] == 0.0:\n",
    "        searchPts = searchPts.loc[[i for i in searchPts.index if i != nearest.index ],:]\n",
    "        nearest = nearest_points(pt,searchPts.geometry.unary_union)[1]\n",
    "        nearest = gpd.GeoDataFrame(searchPts[searchPts.geometry == nearest])\n",
    "        name = nearest[nearest.columns[nearest.columns.str.contains('name|NAME|Name')]]\n",
    "        x =name.iloc[0][0]\n",
    "        y = nearest.geometry.distance(pt)\n",
    "    try:\n",
    "        y = float(y)\n",
    "    except:\n",
    "        y = 0.0\n",
    "    return x,y"
   ]
  },
  {
   "cell_type": "code",
   "execution_count": 6,
   "metadata": {
    "collapsed": true
   },
   "outputs": [],
   "source": [
    "coffeeExtract = chi['geometry'].apply(lambda x: getNearestPoint(x,chi))\n",
    "chi['nearestCoffeeDesc'] = coffeeExtract.apply(lambda x: x[0])\n",
    "chi['nearestCoffeeDist'] = coffeeExtract.apply(lambda x: x[1])"
   ]
  },
  {
   "cell_type": "code",
   "execution_count": 7,
   "metadata": {
    "collapsed": true
   },
   "outputs": [],
   "source": [
    "trainExtract = chi['geometry'].apply(lambda x: getNearestPoint(x,ctaTrain))\n",
    "chi['nearestTrainStopDesc'] = trainExtract.apply(lambda x: x[0])\n",
    "chi['nearestTrainStopDist'] = trainExtract.apply(lambda x: x[1])"
   ]
  },
  {
   "cell_type": "code",
   "execution_count": 8,
   "metadata": {
    "collapsed": true
   },
   "outputs": [],
   "source": [
    "busExtract = chi['geometry'].apply(lambda x: getNearestPoint(x,ctaBus))\n",
    "chi['nearestBusStopDesc'] = busExtract.apply(lambda x: x[0])\n",
    "chi['nearestBusStopDist'] = busExtract.apply(lambda x: x[1])"
   ]
  },
  {
   "cell_type": "code",
   "execution_count": 9,
   "metadata": {
    "collapsed": true
   },
   "outputs": [],
   "source": [
    "neighborhoods = gpd.read_file('data/chicago/v2 07012017/ChicagoNeighborhoods.shp')"
   ]
  },
  {
   "cell_type": "code",
   "execution_count": 10,
   "metadata": {
    "collapsed": true
   },
   "outputs": [],
   "source": [
    "joinedData = pd.DataFrame(gpd.tools.sjoin(neighborhoods,chi,op='contains',how='inner'))\n",
    "joinedData = joinedData[['pri_neigh','DOING BUSINESS AS NAME', \n",
    "            'ADDRESS','CITY', 'STATE', 'ZIP CODE',\n",
    "            'nearestTrainStopDesc','nearestTrainStopDist','nearestBusStopDesc','nearestBusStopDist',\n",
    "            'nearestCoffeeDesc','nearestCoffeeDist'\n",
    "                        ]].reset_index(drop=True)"
   ]
  },
  {
   "cell_type": "code",
   "execution_count": 11,
   "metadata": {
    "collapsed": true
   },
   "outputs": [],
   "source": [
    "joinedData['sbInd'] = joinedData['DOING BUSINESS AS NAME'].str.contains('STARBUCK')\n",
    "joinedData['nearestTrainStopDesc'] = joinedData['nearestTrainStopDesc'].replace(to_replace=' \\(.*\\)',value='',regex=True)\n",
    "joinedData = joinedData.reset_index()"
   ]
  },
  {
   "cell_type": "code",
   "execution_count": 12,
   "metadata": {},
   "outputs": [
    {
     "data": {
      "text/html": [
       "<div>\n",
       "<style>\n",
       "    .dataframe thead tr:only-child th {\n",
       "        text-align: right;\n",
       "    }\n",
       "\n",
       "    .dataframe thead th {\n",
       "        text-align: left;\n",
       "    }\n",
       "\n",
       "    .dataframe tbody tr th {\n",
       "        vertical-align: top;\n",
       "    }\n",
       "</style>\n",
       "<table border=\"1\" class=\"dataframe\">\n",
       "  <thead>\n",
       "    <tr style=\"text-align: right;\">\n",
       "      <th></th>\n",
       "      <th>index</th>\n",
       "      <th>pri_neigh</th>\n",
       "      <th>DOING BUSINESS AS NAME</th>\n",
       "      <th>ADDRESS</th>\n",
       "      <th>CITY</th>\n",
       "      <th>STATE</th>\n",
       "      <th>ZIP CODE</th>\n",
       "      <th>nearestTrainStopDesc</th>\n",
       "      <th>nearestTrainStopDist</th>\n",
       "      <th>nearestBusStopDesc</th>\n",
       "      <th>nearestBusStopDist</th>\n",
       "      <th>nearestCoffeeDesc</th>\n",
       "      <th>nearestCoffeeDist</th>\n",
       "      <th>sbInd</th>\n",
       "    </tr>\n",
       "  </thead>\n",
       "  <tbody>\n",
       "    <tr>\n",
       "      <th>0</th>\n",
       "      <td>0</td>\n",
       "      <td>Grand Boulevard</td>\n",
       "      <td>ACE COFFEE BAR INC.</td>\n",
       "      <td>5001 S MICHIGAN AVE 1</td>\n",
       "      <td>CHICAGO</td>\n",
       "      <td>IL</td>\n",
       "      <td>60615</td>\n",
       "      <td>51st</td>\n",
       "      <td>0.004377</td>\n",
       "      <td>51st Street &amp; Michigan</td>\n",
       "      <td>0.001629</td>\n",
       "      <td>DOLLOP HP LLC</td>\n",
       "      <td>0.025786</td>\n",
       "      <td>False</td>\n",
       "    </tr>\n",
       "    <tr>\n",
       "      <th>1</th>\n",
       "      <td>1</td>\n",
       "      <td>Printers Row</td>\n",
       "      <td>PRINTER'S ROW COFFEE COMPANY LLC</td>\n",
       "      <td>600 S DEARBORN ST 7TH 712</td>\n",
       "      <td>CHICAGO</td>\n",
       "      <td>IL</td>\n",
       "      <td>60605</td>\n",
       "      <td>Harrison</td>\n",
       "      <td>0.001929</td>\n",
       "      <td>Dearborn &amp; Harrison</td>\n",
       "      <td>0.000346</td>\n",
       "      <td>STARBUCKS CORPORATION</td>\n",
       "      <td>0.000343</td>\n",
       "      <td>False</td>\n",
       "    </tr>\n",
       "    <tr>\n",
       "      <th>2</th>\n",
       "      <td>2</td>\n",
       "      <td>United Center</td>\n",
       "      <td>METRIC COFFEE CAFE</td>\n",
       "      <td>2021 W FULTON ST  K101B</td>\n",
       "      <td>CHICAGO</td>\n",
       "      <td>IL</td>\n",
       "      <td>60612</td>\n",
       "      <td>Ashland</td>\n",
       "      <td>0.010789</td>\n",
       "      <td>Damen &amp; Fulton</td>\n",
       "      <td>0.000845</td>\n",
       "      <td>INTELLIGENTSIA COFFEE INC.</td>\n",
       "      <td>0.003756</td>\n",
       "      <td>False</td>\n",
       "    </tr>\n",
       "    <tr>\n",
       "      <th>3</th>\n",
       "      <td>3</td>\n",
       "      <td>United Center</td>\n",
       "      <td>INTELLIGENTSIA COFFEE</td>\n",
       "      <td>1850 W FULTON ST</td>\n",
       "      <td>CHICAGO</td>\n",
       "      <td>IL</td>\n",
       "      <td>60612</td>\n",
       "      <td>Ashland</td>\n",
       "      <td>0.007150</td>\n",
       "      <td>Damen &amp; Fulton</td>\n",
       "      <td>0.002791</td>\n",
       "      <td>BOW &amp; TRUSS, LLC</td>\n",
       "      <td>0.003150</td>\n",
       "      <td>False</td>\n",
       "    </tr>\n",
       "    <tr>\n",
       "      <th>4</th>\n",
       "      <td>4</td>\n",
       "      <td>United Center</td>\n",
       "      <td>BIG SHOULDERS COFFEE</td>\n",
       "      <td>324 N LEAVITT ST</td>\n",
       "      <td>CHICAGO</td>\n",
       "      <td>IL</td>\n",
       "      <td>60612</td>\n",
       "      <td>Western</td>\n",
       "      <td>0.013650</td>\n",
       "      <td>Grand &amp; Leavitt</td>\n",
       "      <td>0.003259</td>\n",
       "      <td>Metric west fulton shop inc</td>\n",
       "      <td>0.004253</td>\n",
       "      <td>False</td>\n",
       "    </tr>\n",
       "  </tbody>\n",
       "</table>\n",
       "</div>"
      ],
      "text/plain": [
       "   index        pri_neigh            DOING BUSINESS AS NAME  \\\n",
       "0      0  Grand Boulevard               ACE COFFEE BAR INC.   \n",
       "1      1     Printers Row  PRINTER'S ROW COFFEE COMPANY LLC   \n",
       "2      2    United Center                METRIC COFFEE CAFE   \n",
       "3      3    United Center             INTELLIGENTSIA COFFEE   \n",
       "4      4    United Center              BIG SHOULDERS COFFEE   \n",
       "\n",
       "                     ADDRESS     CITY STATE ZIP CODE nearestTrainStopDesc  \\\n",
       "0      5001 S MICHIGAN AVE 1  CHICAGO    IL    60615                 51st   \n",
       "1  600 S DEARBORN ST 7TH 712  CHICAGO    IL    60605             Harrison   \n",
       "2    2021 W FULTON ST  K101B  CHICAGO    IL    60612              Ashland   \n",
       "3           1850 W FULTON ST  CHICAGO    IL    60612              Ashland   \n",
       "4           324 N LEAVITT ST  CHICAGO    IL    60612              Western   \n",
       "\n",
       "   nearestTrainStopDist      nearestBusStopDesc  nearestBusStopDist  \\\n",
       "0              0.004377  51st Street & Michigan            0.001629   \n",
       "1              0.001929     Dearborn & Harrison            0.000346   \n",
       "2              0.010789          Damen & Fulton            0.000845   \n",
       "3              0.007150          Damen & Fulton            0.002791   \n",
       "4              0.013650         Grand & Leavitt            0.003259   \n",
       "\n",
       "             nearestCoffeeDesc  nearestCoffeeDist  sbInd  \n",
       "0                DOLLOP HP LLC           0.025786  False  \n",
       "1        STARBUCKS CORPORATION           0.000343  False  \n",
       "2   INTELLIGENTSIA COFFEE INC.           0.003756  False  \n",
       "3             BOW & TRUSS, LLC           0.003150  False  \n",
       "4  Metric west fulton shop inc           0.004253  False  "
      ]
     },
     "execution_count": 12,
     "metadata": {},
     "output_type": "execute_result"
    }
   ],
   "source": [
    "joinedData.head()"
   ]
  },
  {
   "cell_type": "code",
   "execution_count": 13,
   "metadata": {
    "collapsed": true
   },
   "outputs": [],
   "source": [
    "# aggFuncs = {'index':'count','nearestTrainStopDist':'mean','nearestBusStopDist':'mean','nearestCoffeeDist':'mean'}\n",
    "aggFuncs = {'index':'count','nearestTrainStopDist':'mean','nearestCoffeeDist':'mean'}"
   ]
  },
  {
   "cell_type": "code",
   "execution_count": 14,
   "metadata": {
    "collapsed": true
   },
   "outputs": [],
   "source": [
    "sb = joinedData[joinedData['sbInd']==True].groupby('pri_neigh').agg(aggFuncs).reset_index()\n",
    "not_sb = joinedData[joinedData['sbInd']==False].groupby('pri_neigh').agg(aggFuncs).reset_index()\n",
    "\n",
    "nsbRatios = sb.merge(not_sb,how='left',on='pri_neigh',suffixes=['_sb','_nsb'])\n",
    "nsbRatios = nsbRatios.fillna(0)\n",
    "nsbRatios['nsbRatio'] = nsbRatios['index_nsb']/nsbRatios['index_sb']"
   ]
  },
  {
   "cell_type": "code",
   "execution_count": 15,
   "metadata": {},
   "outputs": [
    {
     "data": {
      "text/html": [
       "<div>\n",
       "<style>\n",
       "    .dataframe thead tr:only-child th {\n",
       "        text-align: right;\n",
       "    }\n",
       "\n",
       "    .dataframe thead th {\n",
       "        text-align: left;\n",
       "    }\n",
       "\n",
       "    .dataframe tbody tr th {\n",
       "        vertical-align: top;\n",
       "    }\n",
       "</style>\n",
       "<table border=\"1\" class=\"dataframe\">\n",
       "  <thead>\n",
       "    <tr style=\"text-align: right;\">\n",
       "      <th></th>\n",
       "      <th>pri_neigh</th>\n",
       "      <th>index_sb</th>\n",
       "      <th>nearestTrainStopDist_sb</th>\n",
       "      <th>nearestCoffeeDist_sb</th>\n",
       "      <th>index_nsb</th>\n",
       "      <th>nearestTrainStopDist_nsb</th>\n",
       "      <th>nearestCoffeeDist_nsb</th>\n",
       "      <th>nsbRatio</th>\n",
       "    </tr>\n",
       "  </thead>\n",
       "  <tbody>\n",
       "    <tr>\n",
       "      <th>17</th>\n",
       "      <td>Logan Square</td>\n",
       "      <td>1</td>\n",
       "      <td>0.000000</td>\n",
       "      <td>0.004167</td>\n",
       "      <td>8.0</td>\n",
       "      <td>0.002107</td>\n",
       "      <td>0.004094</td>\n",
       "      <td>8.0</td>\n",
       "    </tr>\n",
       "    <tr>\n",
       "      <th>34</th>\n",
       "      <td>West Town</td>\n",
       "      <td>1</td>\n",
       "      <td>0.005480</td>\n",
       "      <td>0.000829</td>\n",
       "      <td>7.0</td>\n",
       "      <td>0.008623</td>\n",
       "      <td>0.004246</td>\n",
       "      <td>7.0</td>\n",
       "    </tr>\n",
       "    <tr>\n",
       "      <th>8</th>\n",
       "      <td>Edgewater</td>\n",
       "      <td>1</td>\n",
       "      <td>0.001554</td>\n",
       "      <td>0.010704</td>\n",
       "      <td>4.0</td>\n",
       "      <td>0.004842</td>\n",
       "      <td>0.002762</td>\n",
       "      <td>4.0</td>\n",
       "    </tr>\n",
       "    <tr>\n",
       "      <th>16</th>\n",
       "      <td>Lincoln Square</td>\n",
       "      <td>2</td>\n",
       "      <td>0.002089</td>\n",
       "      <td>0.004568</td>\n",
       "      <td>6.0</td>\n",
       "      <td>0.005074</td>\n",
       "      <td>0.003956</td>\n",
       "      <td>3.0</td>\n",
       "    </tr>\n",
       "    <tr>\n",
       "      <th>35</th>\n",
       "      <td>Wicker Park</td>\n",
       "      <td>1</td>\n",
       "      <td>0.000540</td>\n",
       "      <td>0.000853</td>\n",
       "      <td>3.0</td>\n",
       "      <td>0.005186</td>\n",
       "      <td>0.004183</td>\n",
       "      <td>3.0</td>\n",
       "    </tr>\n",
       "    <tr>\n",
       "      <th>13</th>\n",
       "      <td>Hyde Park</td>\n",
       "      <td>2</td>\n",
       "      <td>0.021987</td>\n",
       "      <td>0.005777</td>\n",
       "      <td>5.0</td>\n",
       "      <td>0.014643</td>\n",
       "      <td>0.001271</td>\n",
       "      <td>2.5</td>\n",
       "    </tr>\n",
       "    <tr>\n",
       "      <th>4</th>\n",
       "      <td>Boystown</td>\n",
       "      <td>1</td>\n",
       "      <td>0.009095</td>\n",
       "      <td>0.001523</td>\n",
       "      <td>2.0</td>\n",
       "      <td>0.007175</td>\n",
       "      <td>0.002895</td>\n",
       "      <td>2.0</td>\n",
       "    </tr>\n",
       "    <tr>\n",
       "      <th>7</th>\n",
       "      <td>East Village</td>\n",
       "      <td>1</td>\n",
       "      <td>0.003473</td>\n",
       "      <td>0.002072</td>\n",
       "      <td>2.0</td>\n",
       "      <td>0.005347</td>\n",
       "      <td>0.002512</td>\n",
       "      <td>2.0</td>\n",
       "    </tr>\n",
       "    <tr>\n",
       "      <th>21</th>\n",
       "      <td>North Center</td>\n",
       "      <td>3</td>\n",
       "      <td>0.007262</td>\n",
       "      <td>0.002774</td>\n",
       "      <td>6.0</td>\n",
       "      <td>0.005573</td>\n",
       "      <td>0.002226</td>\n",
       "      <td>2.0</td>\n",
       "    </tr>\n",
       "    <tr>\n",
       "      <th>31</th>\n",
       "      <td>Uptown</td>\n",
       "      <td>2</td>\n",
       "      <td>0.002389</td>\n",
       "      <td>0.003729</td>\n",
       "      <td>3.0</td>\n",
       "      <td>0.003522</td>\n",
       "      <td>0.003973</td>\n",
       "      <td>1.5</td>\n",
       "    </tr>\n",
       "  </tbody>\n",
       "</table>\n",
       "</div>"
      ],
      "text/plain": [
       "         pri_neigh  index_sb  nearestTrainStopDist_sb  nearestCoffeeDist_sb  \\\n",
       "17    Logan Square         1                 0.000000              0.004167   \n",
       "34       West Town         1                 0.005480              0.000829   \n",
       "8        Edgewater         1                 0.001554              0.010704   \n",
       "16  Lincoln Square         2                 0.002089              0.004568   \n",
       "35     Wicker Park         1                 0.000540              0.000853   \n",
       "13       Hyde Park         2                 0.021987              0.005777   \n",
       "4         Boystown         1                 0.009095              0.001523   \n",
       "7     East Village         1                 0.003473              0.002072   \n",
       "21    North Center         3                 0.007262              0.002774   \n",
       "31          Uptown         2                 0.002389              0.003729   \n",
       "\n",
       "    index_nsb  nearestTrainStopDist_nsb  nearestCoffeeDist_nsb  nsbRatio  \n",
       "17        8.0                  0.002107               0.004094       8.0  \n",
       "34        7.0                  0.008623               0.004246       7.0  \n",
       "8         4.0                  0.004842               0.002762       4.0  \n",
       "16        6.0                  0.005074               0.003956       3.0  \n",
       "35        3.0                  0.005186               0.004183       3.0  \n",
       "13        5.0                  0.014643               0.001271       2.5  \n",
       "4         2.0                  0.007175               0.002895       2.0  \n",
       "7         2.0                  0.005347               0.002512       2.0  \n",
       "21        6.0                  0.005573               0.002226       2.0  \n",
       "31        3.0                  0.003522               0.003973       1.5  "
      ]
     },
     "execution_count": 15,
     "metadata": {},
     "output_type": "execute_result"
    }
   ],
   "source": [
    "nsbRatios.sort_values('nsbRatio',ascending=False).head(10)"
   ]
  },
  {
   "cell_type": "code",
   "execution_count": 16,
   "metadata": {},
   "outputs": [
    {
     "name": "stderr",
     "output_type": "stream",
     "text": [
      "/Users/BEugeneSmith/anaconda3/lib/python3.5/site-packages/altair/utils/core.py:110: FutureWarning: pandas.lib is deprecated and will be removed in a future version.\n",
      "You can access infer_dtype as pandas.api.types.infer_dtype\n",
      "  typ = pd.lib.infer_dtype(data)\n"
     ]
    },
    {
     "data": {
      "text/html": [
       "<div class=\"vega-embed\" id=\"ab8eceee-2302-4450-9fb0-24696ee1f41a\"></div>\n",
       "\n",
       "<style>\n",
       ".vega-embed svg, .vega-embed canvas {\n",
       "  border: 1px dotted gray;\n",
       "}\n",
       "\n",
       ".vega-embed .vega-actions a {\n",
       "  margin-right: 6px;\n",
       "}\n",
       "</style>\n"
      ]
     },
     "metadata": {
      "jupyter-vega": "#ab8eceee-2302-4450-9fb0-24696ee1f41a"
     },
     "output_type": "display_data"
    },
    {
     "data": {
      "application/javascript": [
       "var spec = {\"mark\": \"bar\", \"data\": {\"values\": [{\"nsbRatio\": 1.0}, {\"nsbRatio\": 1.0}, {\"nsbRatio\": 1.0}, {\"nsbRatio\": 1.0}, {\"nsbRatio\": 2.0}, {\"nsbRatio\": 1.0}, {\"nsbRatio\": 1.0}, {\"nsbRatio\": 2.0}, {\"nsbRatio\": 4.0}, {\"nsbRatio\": 1.0}, {\"nsbRatio\": 0.0}, {\"nsbRatio\": 0.0}, {\"nsbRatio\": 0.0}, {\"nsbRatio\": 2.5}, {\"nsbRatio\": 0.875}, {\"nsbRatio\": 0.625}, {\"nsbRatio\": 3.0}, {\"nsbRatio\": 8.0}, {\"nsbRatio\": 0.35294117647058826}, {\"nsbRatio\": 0.5}, {\"nsbRatio\": 1.0}, {\"nsbRatio\": 2.0}, {\"nsbRatio\": 0.5}, {\"nsbRatio\": 0.0}, {\"nsbRatio\": 0.25}, {\"nsbRatio\": 0.5714285714285714}, {\"nsbRatio\": 0.25}, {\"nsbRatio\": 0.0}, {\"nsbRatio\": 0.0}, {\"nsbRatio\": 0.0}, {\"nsbRatio\": 0.2}, {\"nsbRatio\": 1.5}, {\"nsbRatio\": 1.3333333333333333}, {\"nsbRatio\": 1.0}, {\"nsbRatio\": 7.0}, {\"nsbRatio\": 3.0}, {\"nsbRatio\": 1.0}]}, \"encoding\": {\"y\": {\"field\": \"*\", \"aggregate\": \"count\"}, \"x\": {\"field\": \"nsbRatio\", \"type\": \"quantitative\", \"bin\": {\"maxbins\": 5.0}}}, \"config\": {\"cell\": {\"width\": 500, \"height\": 350}}};\n",
       "var selector = \"#ab8eceee-2302-4450-9fb0-24696ee1f41a\";\n",
       "var type = \"vega-lite\";\n",
       "\n",
       "var output_area = this;\n",
       "require(['nbextensions/jupyter-vega/index'], function(vega) {\n",
       "  vega.render(selector, spec, type, output_area);\n",
       "}, function (err) {\n",
       "  if (err.requireType !== 'scripterror') {\n",
       "    throw(err);\n",
       "  }\n",
       "});\n"
      ]
     },
     "metadata": {
      "jupyter-vega": "#ab8eceee-2302-4450-9fb0-24696ee1f41a"
     },
     "output_type": "display_data"
    }
   ],
   "source": [
    "Chart(nsbRatios[['nsbRatio']]).mark_bar().encode(\n",
    "    x=X('nsbRatio',\n",
    "        bin=Bin(maxbins=5.0,),\n",
    "       ),\n",
    "    y='count(*)',\n",
    ")"
   ]
  },
  {
   "cell_type": "code",
   "execution_count": 18,
   "metadata": {
    "collapsed": true
   },
   "outputs": [],
   "source": [
    "nsbRatios.to_csv('chicago_ratios_081117.csv',index=False)"
   ]
  },
  {
   "cell_type": "code",
   "execution_count": null,
   "metadata": {
    "collapsed": true
   },
   "outputs": [],
   "source": []
  }
 ],
 "metadata": {
  "kernelspec": {
   "display_name": "Python [conda root]",
   "language": "python",
   "name": "conda-root-py"
  },
  "language_info": {
   "codemirror_mode": {
    "name": "ipython",
    "version": 3
   },
   "file_extension": ".py",
   "mimetype": "text/x-python",
   "name": "python",
   "nbconvert_exporter": "python",
   "pygments_lexer": "ipython3",
   "version": "3.5.3"
  }
 },
 "nbformat": 4,
 "nbformat_minor": 2
}
